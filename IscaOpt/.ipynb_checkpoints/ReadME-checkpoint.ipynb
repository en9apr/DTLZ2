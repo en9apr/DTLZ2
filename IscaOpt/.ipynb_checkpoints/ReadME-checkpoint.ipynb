{
 "cells": [
  {
   "cell_type": "markdown",
   "metadata": {},
   "source": [
    "# Alternative Infill Strategies for Expensive Multi-Objective Optimisation\n",
    "A. Rahat, R. Everson, and J. Fieldsend.\n",
    "Department of Computer Science, University of Exeter, UK."
   ]
  },
  {
   "cell_type": "markdown",
   "metadata": {},
   "source": [
    ">This repository contains Python code for the infill streategies discussed in __Alternative Infill Strategies for Expensive Multi-Objective Optimisation__ by A. Rahat, R. Everson and J. Fieldsend, to appear in GECCO 2017 proceedings. Please refer to the _LICENSE_ before using the code. \n",
    "\n",
    ">Preprint repository: https://ore.exeter.ac.uk/repository/handle/10871/27157\n"
   ]
  },
  {
   "cell_type": "markdown",
   "metadata": {},
   "source": [
    "In this notebook, we show how to use the code in this repository.\n"
   ]
  },
  {
   "cell_type": "markdown",
   "metadata": {},
   "source": [
    "## Pre-requisits\n",
    "\n",
    "The code here is a __Python3__ implementation of the infill strategies. The following modules are necessary to run the code here. \n",
    "\n",
    "* [DEAP](https://github.com/DEAP/deap)\n",
    "* [Numpy](http://www.numpy.org/)\n",
    "* [SciPy](https://www.scipy.org/)\n",
    "* [matplotlib](https://matplotlib.org/2.0.0/index.html)\n",
    "* [PyDOE](https://pythonhosted.org/pyDOE/)\n",
    "* [evoalgos](https://ls11-www.cs.tu-dortmund.de/people/swessing/evoalgos/doc/)\n",
    "* [GPy](https://github.com/SheffieldML/GPy)\n",
    "* [CMA](https://www.lri.fr/~hansen/html-pythoncma/frames.html)\n",
    "\n",
    "To install any of these modules, just issue the following command in your terminal. \n",
    "\n",
    "`$ pip install module_name`\n",
    "\n",
    "To install a module from github, use appropriate command. For instance:\n",
    "\n",
    "`$ pip install git+https://github.com/DEAP/deap`\n",
    "\n",
    "In addition to these, we used a custom module written in _C_ for dominance comparison. The code is given in the repository. To install the module, use the following command wihtin the _FrontCalc_ directory.\n",
    "\n",
    "`$ python setup.py install`"
   ]
  },
  {
   "cell_type": "markdown",
   "metadata": {},
   "source": [
    "## Setting up"
   ]
  },
  {
   "cell_type": "markdown",
   "metadata": {},
   "source": [
    "The multi-objective evolutionary optimiser method (_optimiser.EMO_) requires a _settings_ dictionary along with the multi-objective function and associated arguments or keyword arguments. We list the possible settings below. \n",
    "\n",
    "* n_dim (int): the number of dimensions in the parameter space.\n",
    "* n_obj (int): the number of objectives, i.e. objective space dimensions.\n",
    "* lb (list or numpy array): an array of lower bounds in parameter space (1 in each dimension).\n",
    "* ub (list or numpy array): an array of upper bounds in parameter space (1 in each dimension).\n",
    "* ref_vector (list or numpy array): reference vector in the objective space.\n",
    "* method_name (str): the method to use for performing multi-objective optimisation. Options are:\n",
    "    - 'HypI'\n",
    "    - 'MSD'\n",
    "    - 'DomRank'\n",
    "    - 'MPoI'\n",
    "    - 'SMSEGO'\n",
    "    - 'ParEGO'\n",
    "* budget (int): the budget on the number of function evaluations.\n",
    "* n_samples (int): the number of initial samples.\n",
    "* kern_name (str): the kernel function to be used with Gaussian Processes. Defaults to __'Matern52'__. Please refer to GPy documentation for other options. \n",
    "* s_vector (int): the number of scalarisation vector for ParEGO.\n",
    "* maxfevals (int): the maximum number of function evaluations for infill criteria optimisation using CMA-ES. Defaults to $20000d$, where $d$ is the number of dimensions in parameter space.  \n",
    "* multisurrogate (bool): whether to use a multi-surrogate approach or not. Defaults to __False__. \n",
    "* cma_options (dict): dictionary of settings for Hansen's CMA-ES code. See CMA-ES documentation for more details on avaialble options.\n",
    "* cma_sigma (float): the extent of the standard deviation for CMA-ES. See CMA-ES documentation for details. \n",
    "* init_file (str): intial design file. It should be a \n"
   ]
  },
  {
   "cell_type": "markdown",
   "metadata": {},
   "source": [
    "### An example.\n",
    "\n",
    "Here we are going to use the optimiser with $2$-objective DTLZ2 problem. "
   ]
  },
  {
   "cell_type": "code",
   "execution_count": 6,
   "metadata": {
    "collapsed": false
   },
   "outputs": [
    {
     "name": "stdout",
     "output_type": "stream",
     "text": [
      "=======================\n",
      "Simulation settings. \n",
      "{'budget': 100, 'ref_vector': [2.5, 2.5], 'n_dim': 6, 'n_obj': 2, 'ub': array([ 1.,  1.,  1.,  1.,  1.,  1.]), 'lb': array([ 0.,  0.,  0.,  0.,  0.,  0.]), 'method_name': 'HypI', 'n_samples': 65}\n",
      "=======================\n"
     ]
    },
    {
     "ename": "AttributeError",
     "evalue": "module 'mono_surrogate' has no attribute 'SMSEGO'",
     "output_type": "error",
     "traceback": [
      "\u001b[0;31m---------------------------------------------------------------------------\u001b[0m",
      "\u001b[0;31mAttributeError\u001b[0m                            Traceback (most recent call last)",
      "\u001b[0;32m<ipython-input-6-59dbade8e280>\u001b[0m in \u001b[0;36m<module>\u001b[0;34m()\u001b[0m\n\u001b[1;32m     10\u001b[0m \u001b[0;31m# optimise\u001b[0m\u001b[0;34m\u001b[0m\u001b[0;34m\u001b[0m\u001b[0m\n\u001b[1;32m     11\u001b[0m \u001b[0;32mfrom\u001b[0m \u001b[0moptimiser\u001b[0m \u001b[0;32mimport\u001b[0m \u001b[0mOptimiser\u001b[0m\u001b[0;34m\u001b[0m\u001b[0m\n\u001b[0;32m---> 12\u001b[0;31m \u001b[0mres\u001b[0m \u001b[0;34m=\u001b[0m \u001b[0mOptimiser\u001b[0m\u001b[0;34m.\u001b[0m\u001b[0mEMO\u001b[0m\u001b[0;34m(\u001b[0m\u001b[0mfun\u001b[0m\u001b[0;34m,\u001b[0m \u001b[0margs\u001b[0m\u001b[0;34m,\u001b[0m \u001b[0msettings\u001b[0m\u001b[0;34m=\u001b[0m\u001b[0msettings\u001b[0m\u001b[0;34m)\u001b[0m\u001b[0;34m\u001b[0m\u001b[0m\n\u001b[0m",
      "\u001b[0;32m/home/aamr201/Dropbox/repo/gecco-2017/src/optimiser.py\u001b[0m in \u001b[0;36mEMO\u001b[0;34m(func, fargs, fkwargs, cfunc, cargs, ckwargs, settings)\u001b[0m\n\u001b[1;32m    121\u001b[0m                         for i in range(n_obj)]\n\u001b[1;32m    122\u001b[0m         \u001b[0;32melse\u001b[0m\u001b[0;34m:\u001b[0m\u001b[0;34m\u001b[0m\u001b[0m\n\u001b[0;32m--> 123\u001b[0;31m             \u001b[0mmethod\u001b[0m \u001b[0;34m=\u001b[0m \u001b[0mgetattr\u001b[0m\u001b[0;34m(\u001b[0m\u001b[0mmono_surrogate\u001b[0m\u001b[0;34m,\u001b[0m \u001b[0mmethod_name\u001b[0m\u001b[0;34m)\u001b[0m\u001b[0;34m\u001b[0m\u001b[0m\n\u001b[0m\u001b[1;32m    124\u001b[0m             \u001b[0mkern\u001b[0m \u001b[0;34m=\u001b[0m \u001b[0mgetattr\u001b[0m\u001b[0;34m(\u001b[0m\u001b[0mGP\u001b[0m\u001b[0;34m.\u001b[0m\u001b[0mkern\u001b[0m\u001b[0;34m,\u001b[0m \u001b[0mkern_name\u001b[0m\u001b[0;34m)\u001b[0m\u001b[0;34m(\u001b[0m\u001b[0minput_dim\u001b[0m\u001b[0;34m=\u001b[0m\u001b[0mn_dim\u001b[0m\u001b[0;34m,\u001b[0m \u001b[0mARD\u001b[0m\u001b[0;34m=\u001b[0m\u001b[0;32mTrue\u001b[0m\u001b[0;34m)\u001b[0m\u001b[0;34m\u001b[0m\u001b[0m\n\u001b[1;32m    125\u001b[0m         \u001b[0mprint\u001b[0m\u001b[0;34m(\u001b[0m\u001b[0mmethod\u001b[0m\u001b[0;34m,\u001b[0m \u001b[0mkern\u001b[0m\u001b[0;34m)\u001b[0m\u001b[0;34m\u001b[0m\u001b[0m\n",
      "\u001b[0;31mAttributeError\u001b[0m: module 'mono_surrogate' has no attribute 'SMSEGO'"
     ]
    }
   ],
   "source": [
    "# example set up\n",
    "import numpy as np\n",
    "settings = {\\\n",
    "    'n_dim': 6,\\\n",
    "    'n_obj': 2,\\\n",
    "    'lb': np.zeros(6),\\\n",
    "    'ub': np.ones(6),\\\n",
    "    'ref_vector': [2.5]*2,\\\n",
    "    'method_name': 'HypI',\\\n",
    "    'budget':100,\\\n",
    "    'n_samples':65}\n",
    "\n",
    "# function settings\n",
    "from deap import benchmarks as BM\n",
    "fun = BM.dtlz2\n",
    "args = (2,) # number of objectives as argument\n",
    "\n",
    "# optimise\n",
    "from optimiser import Optimiser\n",
    "res = Optimiser.EMO(fun, args, settings=settings)\n"
   ]
  },
  {
   "cell_type": "code",
   "execution_count": null,
   "metadata": {
    "collapsed": true
   },
   "outputs": [],
   "source": []
  }
 ],
 "metadata": {
  "kernelspec": {
   "display_name": "Python 3",
   "language": "python",
   "name": "python3"
  },
  "language_info": {
   "codemirror_mode": {
    "name": "ipython",
    "version": 3
   },
   "file_extension": ".py",
   "mimetype": "text/x-python",
   "name": "python",
   "nbconvert_exporter": "python",
   "pygments_lexer": "ipython3",
   "version": "3.5.2"
  }
 },
 "nbformat": 4,
 "nbformat_minor": 2
}

{
 "cells": [
  {
   "cell_type": "markdown",
   "metadata": {
    "deletable": true,
    "editable": true
   },
   "source": [
    "# Alternative Infill Strategies for Expensive Multi-Objective Optimisation\n",
    "A. Rahat, R. Everson, and J. Fieldsend.<br />\n",
    "Department of Computer Science, University of Exeter, UK."
   ]
  },
  {
   "cell_type": "markdown",
   "metadata": {
    "deletable": true,
    "editable": true
   },
   "source": [
    ">This repository contains Python code for the infill streategies presented in __Alternative Infill Strategies for Expensive Multi-Objective Optimisation__ by A. Rahat, R. Everson and J. Fieldsend, to appear in GECCO 2017 proceedings. Please refer to the _LICENSE_ before using the code. \n",
    "\n",
    ">Preprint repository: https://ore.exeter.ac.uk/repository/handle/10871/27157\n"
   ]
  },
  {
   "cell_type": "markdown",
   "metadata": {
    "deletable": true,
    "editable": true
   },
   "source": [
    "## Pre-requisits.\n",
    "\n",
    "The code here is a __Python3__ implementation of the infill strategies. The following modules are necessary to run the code here. \n",
    "\n",
    "* [DEAP](https://github.com/DEAP/deap)\n",
    "* [Numpy](http://www.numpy.org/)\n",
    "* [SciPy](https://www.scipy.org/)\n",
    "* [matplotlib](https://matplotlib.org/2.0.0/index.html)\n",
    "* [PyDOE](https://pythonhosted.org/pyDOE/)\n",
    "* [evoalgos](https://ls11-www.cs.tu-dortmund.de/people/swessing/evoalgos/doc/)\n",
    "* [GPy](https://github.com/SheffieldML/GPy)\n",
    "* [CMA](https://www.lri.fr/~hansen/html-pythoncma/frames.html)\n",
    "\n",
    "To install any of these modules, just issue the following command in your terminal. \n",
    "\n",
    "`$ pip install module_name`\n",
    "\n",
    "To install a module from github, use appropriate command. For instance:\n",
    "\n",
    "`$ pip install git+https://github.com/DEAP/deap`\n",
    "\n",
    "In addition to these, we used a custom module written in _C_ for dominance comparison. The code is given in the repository. To install the module, use the following command wihtin the _FrontCalc_ directory.\n",
    "\n",
    "`$ python setup.py install`\n",
    "\n",
    "> __Note.__ As Python installations differ quite significantly, there may be other dependencies, but these should be standard modules from PyPi. If running the code results in complaints that something could not be imported, then please install the relevant module using _pip_."
   ]
  },
  {
   "cell_type": "markdown",
   "metadata": {
    "deletable": true,
    "editable": true
   },
   "source": [
    "## Setting up."
   ]
  },
  {
   "cell_type": "markdown",
   "metadata": {
    "deletable": true,
    "editable": true
   },
   "source": [
    "The multi-objective evolutionary optimiser method (_IscaOpt.Optimiser.EMO_) requires a _settings_ dictionary along with the multi-objective function and associated arguments or keyword arguments. We list the the most pertinent settings below. \n",
    "\n",
    "* n_dim (int): the number of dimensions in the parameter space.\n",
    "* n_obj (int): the number of objectives, i.e. objective space dimensions.\n",
    "* lb (list or numpy array): an array of lower bounds in parameter space (1 in each dimension).\n",
    "* ub (list or numpy array): an array of upper bounds in parameter space (1 in each dimension).\n",
    "* ref_vector (list or numpy array): reference vector in the objective space.\n",
    "* method_name (str): the method to use for performing multi-objective optimisation (deafulats to 'HypI'). Options are:\n",
    "    - 'HypI'\n",
    "    - 'MSD'\n",
    "    - 'DomRank'\n",
    "    - 'MPoI'\n",
    "    - 'SMSEGO'\n",
    "    - 'ParEGO'\n",
    "* budget (int): the budget on the number of function evaluations.\n",
    "* n_samples (int): the number of initial samples.\n",
    "* kern_name (str): the kernel function to be used with Gaussian Processes. Defaults to __'Matern52'__. Please refer to GPy documentation for other options. \n",
    "* s_vector (int): the number of scalarisation vectors for ParEGO.\n",
    "* maxfevals (int): the maximum number of function evaluations for infill criterion optimisation using CMA-ES. Defaults to $20000d$, where $d$ is the number of dimensions in parameter space.  \n",
    "* multisurrogate (bool): whether to use a multi-surrogate approach or not. Defaults to __False__, i.e. use a mono-surrogate approach. \n",
    "* cma_options (dict): dictionary of settings for Hansen's CMA-ES code. See [CMA-ES documentation](https://www.lri.fr/~hansen/html-pythoncma/frames.html) for more details on avaialble options.\n",
    "* cma_sigma (float): the extent of the standard deviation for CMA-ES. See [CMA-ES documentation](https://www.lri.fr/~hansen/html-pythoncma/frames.html) for details. \n",
    "* init_file (str): intial design file. It should be a __.npz__ file with 'arr_0' set to decision variables matrix $X \\in \\mathbb{R}^{M \\times n}$ and 'arr_1' for corresponding function response vector $\\mathbf{f} \\in \\mathbb{R}^{M \\times D}$ (please refer to the paper for details on notations).\n",
    "* visualise (bool): it allows basic visualisations. Only available for the following cases: __n_obj=2__; __n_obj=1 and n_dim=2__; __n_obj=1 and n_dim=1__.\n",
    "\n",
    "> __Notes__<br />\n",
    "> * This package can be used for single objective Bayesian optimisation. To do so, specify the method by setting **method_name** to **'EGO'**, and of course **n_obj** to **1** with an appropriate function. <br />\n",
    "> * For one-dimensional search space and a single objective problem, we just use a grid-search instead of CMA-ES. \n",
    "\n",
    "\n"
   ]
  },
  {
   "cell_type": "markdown",
   "metadata": {},
   "source": [
    "## Running the optimiser.\n",
    "\n",
    "To run the optimiser it is sufficient to define an objective function that may produce a response given a decision vector, and use appropriate settings to call the multi-objective evolutionary optimiser method (_IscaOpt.Optimiser.EMO_). Here we give an example of using the optimiser. "
   ]
  },
  {
   "cell_type": "markdown",
   "metadata": {
    "deletable": true,
    "editable": true
   },
   "source": [
    "### An example.\n",
    "\n",
    "_Problem description_: Use the optimiser to solve $2$-objective __DTLZ2__ problem, starting with $65$ initial LHS samples and a budget of $100$. "
   ]
  },
  {
   "cell_type": "code",
   "execution_count": 1,
   "metadata": {
    "collapsed": false,
    "deletable": true,
    "editable": true
   },
   "outputs": [
    {
     "data": {
      "image/png": "[encoded data removed]",
      "text/plain": [
       "<matplotlib.figure.Figure at 0x7f9829413b70>"
      ]
     },
     "metadata": {},
     "output_type": "display_data"
    }
   ],
   "source": [
    "from IPython.display import clear_output\n",
    "# example set up\n",
    "import numpy as np\n",
    "# import optimiser codes\n",
    "import IscaOpt\n",
    "\n",
    "settings = {\\\n",
    "    'n_dim': 6,\\\n",
    "    'n_obj': 2,\\\n",
    "    'lb': np.zeros(6),\\\n",
    "    'ub': np.ones(6),\\\n",
    "    'ref_vector': [2.5]*2,\\\n",
    "    'method_name': 'HypI',\\\n",
    "    'budget':100,\\\n",
    "    'n_samples':65,\\\n",
    "    'visualise':True}\n",
    "\n",
    "# function settings\n",
    "from deap import benchmarks as BM\n",
    "fun = BM.dtlz2\n",
    "args = (2,) # number of objectives as argument\n",
    "\n",
    "# optimise\n",
    "res = IscaOpt.Optimiser.EMO(fun, args, settings=settings)\n",
    "clear_output()"
   ]
  },
  {
   "cell_type": "markdown",
   "metadata": {},
   "source": [
    "In the Figure above, the blue crosses show the initial samples, and the solid circle show the newly sampled solutions with darker colours showing earlier samples. The black encircled solid is the latest sample."
   ]
  },
  {
   "cell_type": "markdown",
   "metadata": {
    "collapsed": true,
    "deletable": true,
    "editable": true
   },
   "source": [
    "## Errata"
   ]
  },
  {
   "cell_type": "markdown",
   "metadata": {},
   "source": [
    "* Equation (5) should be as follows. \n",
    "    $\\alpha(\\mathbf{x}, f^*) = \\int_{-\\infty}^{\\infty}I(\\mathbf{x}, f^*)P(\\hat{f}|\\mathbf{x},\\mathcal{D})d\\hat{f} = \\sigma(\\mathbf{x})(s\\Phi(s) + \\phi(s))$."
   ]
  },
  {
   "cell_type": "markdown",
   "metadata": {},
   "source": [
    "## Contact"
   ]
  },
  {
   "cell_type": "markdown",
   "metadata": {},
   "source": [
    "For any comments, queries or suggestions, please send an email to: __a.a.m.rahat@exeter.ac.uk__"
   ]
  }
 ],
 "metadata": {
  "kernelspec": {
   "display_name": "Python 3",
   "language": "python",
   "name": "python3"
  },
  "language_info": {
   "codemirror_mode": {
    "name": "ipython",
    "version": 3
   },
   "file_extension": ".py",
   "mimetype": "text/x-python",
   "name": "python",
   "nbconvert_exporter": "python",
   "pygments_lexer": "ipython3",
   "version": "3.5.2"
  }
 },
 "nbformat": 4,
 "nbformat_minor": 2
}
